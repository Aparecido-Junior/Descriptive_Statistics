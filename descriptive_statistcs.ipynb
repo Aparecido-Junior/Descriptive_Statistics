{
 "cells": [
  {
   "cell_type": "markdown",
   "id": "3b182f5b-7439-4df0-8984-6bc59cc90d82",
   "metadata": {},
   "source": [
    "# 🐼 Pandas Methods"
   ]
  },
  {
   "cell_type": "code",
   "execution_count": null,
   "id": "fa89645e-b668-4ca8-aff7-e9a1e7dc94e1",
   "metadata": {},
   "outputs": [],
   "source": [
    "df.describe() # summary stats (count, mean, std, min, quartiles, max)"
   ]
  },
  {
   "cell_type": "code",
   "execution_count": null,
   "id": "95b89a8a-e9da-4016-a03e-8968bd68ca6f",
   "metadata": {},
   "outputs": [],
   "source": [
    "df.describe(include='all') # includes categorical columns"
   ]
  },
  {
   "cell_type": "code",
   "execution_count": null,
   "id": "ba61b150-54a4-4a4c-84fc-bb88535a91aa",
   "metadata": {},
   "outputs": [],
   "source": []
  },
  {
   "cell_type": "markdown",
   "id": "d504fbaa-afcd-4e54-b505-13793838293b",
   "metadata": {},
   "source": [
    "# 📈 Central Tendency"
   ]
  },
  {
   "cell_type": "code",
   "execution_count": null,
   "id": "f487532d-f01d-48f9-a8f9-2cc227828d71",
   "metadata": {},
   "outputs": [],
   "source": [
    "df['col'].mean() # mean"
   ]
  },
  {
   "cell_type": "code",
   "execution_count": null,
   "id": "04718774-8a55-4ea4-9966-308e15a0c718",
   "metadata": {},
   "outputs": [],
   "source": [
    "df['col'].median() # median"
   ]
  },
  {
   "cell_type": "code",
   "execution_count": null,
   "id": "feb879da-a495-48fa-91d6-211819d80551",
   "metadata": {},
   "outputs": [],
   "source": [
    "df['col'].mode() # mode"
   ]
  },
  {
   "cell_type": "code",
   "execution_count": null,
   "id": "8f43dc87-4fec-4bdf-b449-20a4d8171a7e",
   "metadata": {},
   "outputs": [],
   "source": []
  },
  {
   "cell_type": "markdown",
   "id": "226980bc-4eb0-4a3e-b959-415dc78d06f5",
   "metadata": {},
   "source": [
    "# 📉 Dispersion"
   ]
  },
  {
   "cell_type": "code",
   "execution_count": null,
   "id": "5e2f5293-ddd8-4a43-84a6-c2e8210c9d93",
   "metadata": {},
   "outputs": [],
   "source": [
    "df['col'].std() # standard deviation"
   ]
  },
  {
   "cell_type": "code",
   "execution_count": null,
   "id": "0e5758cc-0bde-4281-ad4a-d7a96118c843",
   "metadata": {},
   "outputs": [],
   "source": [
    "df['col'].var() # variance"
   ]
  },
  {
   "cell_type": "code",
   "execution_count": null,
   "id": "bbbc5953-0c0f-47d4-aecd-95f8d274a769",
   "metadata": {},
   "outputs": [],
   "source": [
    "df['col'].min() # minimum"
   ]
  },
  {
   "cell_type": "code",
   "execution_count": null,
   "id": "7553bc69-7b46-4122-9fa3-d517044fcfea",
   "metadata": {},
   "outputs": [],
   "source": [
    "df['col'].max() # maximum"
   ]
  },
  {
   "cell_type": "code",
   "execution_count": null,
   "id": "09922115-769e-4f7e-bb19-0f5795b125d0",
   "metadata": {},
   "outputs": [],
   "source": [
    "df['col'].quantile(q) # quantiles (e.g. 0.25, 0.5, 0.75)"
   ]
  },
  {
   "cell_type": "code",
   "execution_count": null,
   "id": "3844a70a-bcd1-4aad-9652-40a4ca6ec389",
   "metadata": {},
   "outputs": [],
   "source": []
  },
  {
   "cell_type": "markdown",
   "id": "84eb3c5d-0804-48a1-84d3-4f00a8db2e23",
   "metadata": {},
   "source": [
    "# 📌 Distribution Shape"
   ]
  },
  {
   "cell_type": "code",
   "execution_count": null,
   "id": "1b1f5435-6431-49d8-b627-c37fb6662a4e",
   "metadata": {},
   "outputs": [],
   "source": [
    "df['col'].skew() # skewness"
   ]
  },
  {
   "cell_type": "code",
   "execution_count": null,
   "id": "ce281929-542a-4649-87c2-b7e4bad17793",
   "metadata": {},
   "outputs": [],
   "source": [
    "df['col'].kurt() # kurtosis"
   ]
  },
  {
   "cell_type": "code",
   "execution_count": null,
   "id": "24ae39a8-5e4f-4395-a94e-169ae82881c6",
   "metadata": {},
   "outputs": [],
   "source": []
  },
  {
   "cell_type": "markdown",
   "id": "ef0ff827-e28c-4b67-8289-46899c89490d",
   "metadata": {},
   "source": [
    "# 🔄 Correlation & Covariance"
   ]
  },
  {
   "cell_type": "code",
   "execution_count": null,
   "id": "fff944f5-a3cf-4d67-887c-504aa3e0b020",
   "metadata": {},
   "outputs": [],
   "source": [
    "df.corr() # Pearson correlation"
   ]
  },
  {
   "cell_type": "code",
   "execution_count": null,
   "id": "37982c3d-6ae3-4ef3-aaee-76e286bf4b19",
   "metadata": {},
   "outputs": [],
   "source": [
    "df.cov() # covariance"
   ]
  },
  {
   "cell_type": "code",
   "execution_count": null,
   "id": "28fa81b1-fc5e-48b7-8aac-ce1561db939a",
   "metadata": {},
   "outputs": [],
   "source": []
  },
  {
   "cell_type": "markdown",
   "id": "995bf07d-89fb-41c9-b962-335aad186f14",
   "metadata": {},
   "source": [
    "# 🧮 Frequency Counts"
   ]
  },
  {
   "cell_type": "code",
   "execution_count": null,
   "id": "141179b6-883a-4818-9edb-5af1750fdbc2",
   "metadata": {},
   "outputs": [],
   "source": [
    "df['col'].value_counts() # count of unique values"
   ]
  },
  {
   "cell_type": "code",
   "execution_count": null,
   "id": "5c4b595e-5b7c-480f-8d6f-8b0284c3a870",
   "metadata": {},
   "outputs": [],
   "source": []
  },
  {
   "cell_type": "markdown",
   "id": "64b888f9-5c01-4cba-9055-4cdecc01cd42",
   "metadata": {},
   "source": [
    "# ❓ Missing Values"
   ]
  },
  {
   "cell_type": "code",
   "execution_count": null,
   "id": "43b535c1-2c9c-4780-84b8-4c128cdcaa92",
   "metadata": {},
   "outputs": [],
   "source": [
    "df.isnull().sum() # count of missing values per column"
   ]
  },
  {
   "cell_type": "code",
   "execution_count": null,
   "id": "17e9a451-2941-4536-8131-88a92f9f0d2f",
   "metadata": {},
   "outputs": [],
   "source": []
  },
  {
   "cell_type": "markdown",
   "id": "666a49ae-0838-4a15-beb0-e267c9452b32",
   "metadata": {},
   "source": [
    "# 🔢 NumPy Functions"
   ]
  },
  {
   "cell_type": "markdown",
   "id": "c0489347-986e-4ba2-9602-acbab4034044",
   "metadata": {},
   "source": [
    "# 📊 Central Tendency"
   ]
  },
  {
   "cell_type": "code",
   "execution_count": null,
   "id": "1d9e9cb8-b6fa-440e-b70c-6b9d18b950d9",
   "metadata": {},
   "outputs": [],
   "source": [
    "np.mean(array) # mean"
   ]
  },
  {
   "cell_type": "code",
   "execution_count": null,
   "id": "bfef6650-1059-493e-a796-a0e2dced3174",
   "metadata": {},
   "outputs": [],
   "source": [
    "np.median(array) # median"
   ]
  },
  {
   "cell_type": "code",
   "execution_count": null,
   "id": "a9c253b4-219f-4e9b-84c3-4ae9d447f735",
   "metadata": {},
   "outputs": [],
   "source": [
    "np.percentile(array, q) # percentile (e.g. 25th, 75th)"
   ]
  },
  {
   "cell_type": "code",
   "execution_count": null,
   "id": "f5871434-90bd-407c-b733-ca4048b11db4",
   "metadata": {},
   "outputs": [],
   "source": []
  },
  {
   "cell_type": "markdown",
   "id": "770c6633-579e-48de-9cce-09065aaf0215",
   "metadata": {},
   "source": [
    "# 📉 Dispersion"
   ]
  },
  {
   "cell_type": "code",
   "execution_count": null,
   "id": "100dcc3b-6f8f-41d1-b449-8b76c219fca6",
   "metadata": {},
   "outputs": [],
   "source": [
    "np.std(array, ddof=1) # standard deviation"
   ]
  },
  {
   "cell_type": "code",
   "execution_count": null,
   "id": "11af7bc3-2a51-41ea-ad7c-a9391065d213",
   "metadata": {},
   "outputs": [],
   "source": [
    "np.var(array, ddof=1) # variance"
   ]
  },
  {
   "cell_type": "code",
   "execution_count": null,
   "id": "c10747b3-9e13-47e5-88b5-c0de58e8e4ad",
   "metadata": {},
   "outputs": [],
   "source": [
    "np.min(array) # minimum"
   ]
  },
  {
   "cell_type": "code",
   "execution_count": null,
   "id": "8223ba3e-bae4-4a98-affa-c6a9abdec072",
   "metadata": {},
   "outputs": [],
   "source": [
    "np.max(array) # maximum"
   ]
  },
  {
   "cell_type": "code",
   "execution_count": null,
   "id": "139eb85a-92d3-451b-9f1e-8a4cbb864b2e",
   "metadata": {},
   "outputs": [],
   "source": []
  },
  {
   "cell_type": "markdown",
   "id": "b99936eb-e82e-46a5-a904-5b26872305d9",
   "metadata": {},
   "source": [
    "# 🧮 Frequency"
   ]
  },
  {
   "cell_type": "code",
   "execution_count": null,
   "id": "a700ad6b-90c1-4897-81a7-e4beff493657",
   "metadata": {},
   "outputs": [],
   "source": [
    "np.unique(array, return_counts=True) # unique values with counts"
   ]
  },
  {
   "cell_type": "code",
   "execution_count": null,
   "id": "3c496634-e50a-4ddc-8a3a-c98fe2cb058d",
   "metadata": {},
   "outputs": [],
   "source": []
  },
  {
   "cell_type": "code",
   "execution_count": null,
   "id": "9ebfb306-bca0-4fbf-815e-eac7c4a30bf7",
   "metadata": {},
   "outputs": [],
   "source": [
    "print('Hello Word')"
   ]
  }
 ],
 "metadata": {
  "kernelspec": {
   "display_name": "Python [conda env:base] *",
   "language": "python",
   "name": "conda-base-py"
  },
  "language_info": {
   "codemirror_mode": {
    "name": "ipython",
    "version": 3
   },
   "file_extension": ".py",
   "mimetype": "text/x-python",
   "name": "python",
   "nbconvert_exporter": "python",
   "pygments_lexer": "ipython3",
   "version": "3.12.7"
  }
 },
 "nbformat": 4,
 "nbformat_minor": 5
}
